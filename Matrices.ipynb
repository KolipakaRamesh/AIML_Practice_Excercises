{
  "nbformat": 4,
  "nbformat_minor": 0,
  "metadata": {
    "colab": {
      "provenance": [],
      "authorship_tag": "ABX9TyOBWniuZqaro6F0Tsay0zfp",
      "include_colab_link": true
    },
    "kernelspec": {
      "name": "python3",
      "display_name": "Python 3"
    },
    "language_info": {
      "name": "python"
    }
  },
  "cells": [
    {
      "cell_type": "markdown",
      "metadata": {
        "id": "view-in-github",
        "colab_type": "text"
      },
      "source": [
        "<a href=\"https://colab.research.google.com/github/KolipakaRamesh/AIML_Practice_Excercises/blob/main/Matrices.ipynb\" target=\"_parent\"><img src=\"https://colab.research.google.com/assets/colab-badge.svg\" alt=\"Open In Colab\"/></a>"
      ]
    },
    {
      "cell_type": "code",
      "execution_count": null,
      "metadata": {
        "colab": {
          "base_uri": "https://localhost:8080/"
        },
        "id": "C0WCKEXG-TdS",
        "outputId": "f9fe3c7c-8d08-47c9-c487-4ef14143df81"
      },
      "outputs": [
        {
          "output_type": "stream",
          "name": "stdout",
          "text": [
            "[[1. 0. 0.]\n",
            " [0. 1. 0.]\n",
            " [0. 0. 1.]]\n"
          ]
        }
      ],
      "source": [
        "import numpy as np\n",
        "\n",
        "# Create a 3x3 identity matrix\n",
        "identity_matrix = np.identity(3)\n",
        "\n",
        "# Print the identity matrix\n",
        "print(identity_matrix)"
      ]
    },
    {
      "cell_type": "code",
      "metadata": {
        "colab": {
          "base_uri": "https://localhost:8080/"
        },
        "id": "85cd90f4",
        "outputId": "f5efa000-1e6e-44e6-ee26-879e1b0fd066"
      },
      "source": [
        "import numpy as np\n",
        "\n",
        "# Create a diagonal matrix from a list of values\n",
        "diagonal_values = [1, 2, 3, 4]\n",
        "diagonal_matrix = np.diag(diagonal_values)\n",
        "\n",
        "# Print the diagonal matrix\n",
        "print(diagonal_matrix)"
      ],
      "execution_count": null,
      "outputs": [
        {
          "output_type": "stream",
          "name": "stdout",
          "text": [
            "[[1 0 0 0]\n",
            " [0 2 0 0]\n",
            " [0 0 3 0]\n",
            " [0 0 0 4]]\n"
          ]
        }
      ]
    },
    {
      "cell_type": "code",
      "metadata": {
        "colab": {
          "base_uri": "https://localhost:8080/"
        },
        "id": "f87c672d",
        "outputId": "1b40ca4f-89ec-47f0-db99-8d3b10a86d5a"
      },
      "source": [
        "import numpy as np\n",
        "\n",
        "# Define two vectors\n",
        "vector1 = np.array([1, 2, 3])\n",
        "vector2 = np.array([4, 5, 6])\n",
        "\n",
        "# Calculate the dot product\n",
        "dot_product = np.dot(vector1, vector2)\n",
        "\n",
        "# Print the dot product\n",
        "print(\"Vector 1:\", vector1)\n",
        "print(\"Vector 2:\", vector2)\n",
        "print(\"Dot product:\", dot_product)"
      ],
      "execution_count": null,
      "outputs": [
        {
          "output_type": "stream",
          "name": "stdout",
          "text": [
            "Vector 1: [1 2 3]\n",
            "Vector 2: [4 5 6]\n",
            "Dot product: 32\n"
          ]
        }
      ]
    },
    {
      "cell_type": "code",
      "metadata": {
        "colab": {
          "base_uri": "https://localhost:8080/"
        },
        "id": "68aa773b",
        "outputId": "b2adf104-d814-4ec8-abe9-0d9e8d4d6266"
      },
      "source": [
        "import numpy as np\n",
        "\n",
        "# Define two vectors\n",
        "vector1 = np.array([1, 2, 3])\n",
        "vector2 = np.array([4, 5, 6])\n",
        "\n",
        "# Calculate the cross product\n",
        "cross_product = np.cross(vector1, vector2)\n",
        "\n",
        "# Calculate the magnitude of the cross product\n",
        "magnitude_cross_product = np.linalg.norm(cross_product)\n",
        "\n",
        "\n",
        "# Print the vector and cross product\n",
        "print(\"Vector 1:\", vector1)\n",
        "print(\"Vector 2:\", vector2)\n",
        "print(\"Cross product:\", cross_product)\n",
        "print(\"Magnitude of cross product:\", magnitude_cross_product)"
      ],
      "execution_count": 1,
      "outputs": [
        {
          "output_type": "stream",
          "name": "stdout",
          "text": [
            "Vector 1: [1 2 3]\n",
            "Vector 2: [4 5 6]\n",
            "Cross product: [-3  6 -3]\n",
            "Magnitude of cross product: 7.3484692283495345\n"
          ]
        }
      ]
    },
    {
      "cell_type": "code",
      "metadata": {
        "colab": {
          "base_uri": "https://localhost:8080/"
        },
        "id": "008c9c6d",
        "outputId": "39d20e6f-c036-4a28-8eb0-d5ad08bb04d6"
      },
      "source": [
        "import numpy as np\n",
        "\n",
        "# Create a sample matrix\n",
        "matrix = np.array([[1, 2, 3],\n",
        "                   [4, 5, 6]])\n",
        "\n",
        "# Calculate the transpose of the matrix\n",
        "transpose_matrix = np.transpose(matrix)\n",
        "\n",
        "# Print the original and transpose matrices\n",
        "print(\"Original Matrix:\\n\", matrix)\n",
        "print(\"\\nTranspose Matrix:\\n\", transpose_matrix)"
      ],
      "execution_count": null,
      "outputs": [
        {
          "output_type": "stream",
          "name": "stdout",
          "text": [
            "Original Matrix:\n",
            " [[1 2 3]\n",
            " [4 5 6]]\n",
            "\n",
            "Transpose Matrix:\n",
            " [[1 4]\n",
            " [2 5]\n",
            " [3 6]]\n"
          ]
        }
      ]
    },
    {
      "cell_type": "code",
      "metadata": {
        "colab": {
          "base_uri": "https://localhost:8080/"
        },
        "id": "43d15005",
        "outputId": "d60377e3-3988-4e54-a098-353f9743b59b"
      },
      "source": [
        "import numpy as np\n",
        "from numpy.linalg import inv\n",
        "\n",
        "# Create a square matrix\n",
        "matrix = np.array([[1, 2],\n",
        "                   [3, 4]])\n",
        "\n",
        "# Calculate the inverse of the matrix\n",
        "try:\n",
        "    inverse_matrix = inv(matrix)\n",
        "    # Print the original and inverse matrices\n",
        "    print(\"Original Matrix:\\n\", matrix)\n",
        "    print(\"\\nInverse Matrix:\\n\", inverse_matrix)\n",
        "except np.linalg.LinAlgError:\n",
        "    print(\"The matrix is singular and does not have an inverse.\")"
      ],
      "execution_count": null,
      "outputs": [
        {
          "output_type": "stream",
          "name": "stdout",
          "text": [
            "Original Matrix:\n",
            " [[1 2]\n",
            " [3 4]]\n",
            "\n",
            "Inverse Matrix:\n",
            " [[-2.   1. ]\n",
            " [ 1.5 -0.5]]\n"
          ]
        }
      ]
    },
    {
      "cell_type": "code",
      "metadata": {
        "colab": {
          "base_uri": "https://localhost:8080/"
        },
        "id": "a3094551",
        "outputId": "59ce2a38-1641-48c2-ce92-b710fd978b38"
      },
      "source": [
        "import numpy as np\n",
        "\n",
        "# Create a sample square matrix\n",
        "matrix = np.array([[1, 2, 3],\n",
        "                   [4, 5, 6],\n",
        "                   [7, 8, 9]])\n",
        "\n",
        "# Calculate the trace of the matrix\n",
        "trace_value = np.trace(matrix)\n",
        "\n",
        "# Print the original matrix and its trace\n",
        "print(\"Original Matrix:\\n\", matrix)\n",
        "print(\"\\nTrace of the matrix:\", trace_value)"
      ],
      "execution_count": null,
      "outputs": [
        {
          "output_type": "stream",
          "name": "stdout",
          "text": [
            "Original Matrix:\n",
            " [[1 2 3]\n",
            " [4 5 6]\n",
            " [7 8 9]]\n",
            "\n",
            "Trace of the matrix: 15\n"
          ]
        }
      ]
    },
    {
      "cell_type": "code",
      "metadata": {
        "colab": {
          "base_uri": "https://localhost:8080/"
        },
        "id": "6eccd4e8",
        "outputId": "4e63d271-538b-434b-a2b7-ab7ac8e17807"
      },
      "source": [
        "import numpy as np\n",
        "from numpy.linalg import det\n",
        "\n",
        "# Create a sample square matrix\n",
        "matrix = np.array([[1, 2],\n",
        "                   [3, 4]])\n",
        "\n",
        "# Calculate the determinant of the matrix\n",
        "determinant_value = det(matrix)\n",
        "\n",
        "# Print the original matrix and its determinant\n",
        "print(\"Original Matrix:\\n\", matrix)\n",
        "print(\"\\nDeterminant of the matrix:\", determinant_value)"
      ],
      "execution_count": null,
      "outputs": [
        {
          "output_type": "stream",
          "name": "stdout",
          "text": [
            "Original Matrix:\n",
            " [[1 2]\n",
            " [3 4]]\n",
            "\n",
            "Determinant of the matrix: -2.0000000000000004\n"
          ]
        }
      ]
    },
    {
      "cell_type": "code",
      "metadata": {
        "colab": {
          "base_uri": "https://localhost:8080/"
        },
        "id": "825f443d",
        "outputId": "7199014a-b634-48eb-dfcf-e1eebf6ee820"
      },
      "source": [
        "import numpy as np\n",
        "from numpy.linalg import eigh\n",
        "\n",
        "# Create a symmetric matrix\n",
        "# A matrix A is symmetric if A = A^T\n",
        "matrix = np.array([[2, 1],\n",
        "                   [1, 3]])\n",
        "\n",
        "# Perform eigendecomposition for a symmetric matrix\n",
        "# eigh returns eigenvalues and eigenvectors for symmetric matrices\n",
        "eigenvalues, eigenvectors = eigh(matrix)\n",
        "\n",
        "# Print the original matrix, eigenvalues, and eigenvectors\n",
        "print(\"Original Symmetric Matrix:\\n\", matrix)\n",
        "print(\"\\nEigenvalues:\", eigenvalues)\n",
        "print(\"\\nEigenvectors:\\n\", eigenvectors)\n",
        "\n",
        "# Verify the decomposition: A = V @ D @ V.T\n",
        "# V is the matrix of eigenvectors (eigenvectors), D is a diagonal matrix of eigenvalues\n",
        "D = np.diag(eigenvalues)\n",
        "reconstructed_matrix = eigenvectors @ D @ eigenvectors.T\n",
        "\n",
        "print(\"\\nReconstructed Matrix (V @ D @ V.T):\\n\", reconstructed_matrix)"
      ],
      "execution_count": null,
      "outputs": [
        {
          "output_type": "stream",
          "name": "stdout",
          "text": [
            "Original Symmetric Matrix:\n",
            " [[2 1]\n",
            " [1 3]]\n",
            "\n",
            "Eigenvalues: [1.38196601 3.61803399]\n",
            "\n",
            "Eigenvectors:\n",
            " [[-0.85065081  0.52573111]\n",
            " [ 0.52573111  0.85065081]]\n",
            "\n",
            "Reconstructed Matrix (V @ D @ V.T):\n",
            " [[2. 1.]\n",
            " [1. 3.]]\n"
          ]
        }
      ]
    },
    {
      "cell_type": "code",
      "metadata": {
        "colab": {
          "base_uri": "https://localhost:8080/"
        },
        "id": "f6f1a889",
        "outputId": "c4ab4db2-bbca-4e6a-e8ae-5fab5a0cfe98"
      },
      "source": [
        "import numpy as np\n",
        "from numpy.linalg import eig\n",
        "\n",
        "# Create a sample non-symmetric matrix\n",
        "matrix = np.array([[3, 2],\n",
        "                   [1, 4]])\n",
        "\n",
        "# Perform eigendecomposition for a general matrix\n",
        "# eig returns eigenvalues and eigenvectors\n",
        "eigenvalues, eigenvectors = eig(matrix)\n",
        "\n",
        "# Print the original matrix, eigenvalues, and eigenvectors\n",
        "print(\"Original Non-Symmetric Matrix:\\n\", matrix)\n",
        "print(\"\\nEigenvalues:\", eigenvalues)\n",
        "print(\"\\nEigenvectors:\\n\", eigenvectors)\n",
        "\n",
        "# Verify the decomposition: A @ v = lambda * v\n",
        "# Where A is the matrix, v is an eigenvector, and lambda is an eigenvalue\n",
        "# We can check this for the first eigenvector and eigenvalue\n",
        "v1 = eigenvectors[:, 0]\n",
        "lambda1 = eigenvalues[0]\n",
        "\n",
        "print(\"\\nVerification (A @ v1):\", matrix @ v1)\n",
        "print(\"Verification (lambda1 * v1):\", lambda1 * v1)\n",
        "\n",
        "# We can check this for the second eigenvector and eigenvalue\n",
        "v2 = eigenvectors[:, 1]\n",
        "lambda2 = eigenvalues[1]\n",
        "\n",
        "print(\"\\nVerification (A @ v2):\", matrix @ v2)\n",
        "print(\"Verification (lambda2 * v2):\", lambda2 * v2)"
      ],
      "execution_count": null,
      "outputs": [
        {
          "output_type": "stream",
          "name": "stdout",
          "text": [
            "Original Non-Symmetric Matrix:\n",
            " [[3 2]\n",
            " [1 4]]\n",
            "\n",
            "Eigenvalues: [2. 5.]\n",
            "\n",
            "Eigenvectors:\n",
            " [[-0.89442719 -0.70710678]\n",
            " [ 0.4472136  -0.70710678]]\n",
            "\n",
            "Verification (A @ v1): [-1.78885438  0.89442719]\n",
            "Verification (lambda1 * v1): [-1.78885438  0.89442719]\n",
            "\n",
            "Verification (A @ v2): [-3.53553391 -3.53553391]\n",
            "Verification (lambda2 * v2): [-3.53553391 -3.53553391]\n"
          ]
        }
      ]
    }
  ]
}