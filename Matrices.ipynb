{
  "nbformat": 4,
  "nbformat_minor": 0,
  "metadata": {
    "colab": {
      "provenance": [],
      "authorship_tag": "ABX9TyOqEZ6GDen4XTvBxuqYDlwl",
      "include_colab_link": true
    },
    "kernelspec": {
      "name": "python3",
      "display_name": "Python 3"
    },
    "language_info": {
      "name": "python"
    }
  },
  "cells": [
    {
      "cell_type": "markdown",
      "metadata": {
        "id": "view-in-github",
        "colab_type": "text"
      },
      "source": [
        "<a href=\"https://colab.research.google.com/github/KolipakaRamesh/AIML_Practice_Excercises/blob/main/Matrices.ipynb\" target=\"_parent\"><img src=\"https://colab.research.google.com/assets/colab-badge.svg\" alt=\"Open In Colab\"/></a>"
      ]
    },
    {
      "cell_type": "code",
      "execution_count": 2,
      "metadata": {
        "colab": {
          "base_uri": "https://localhost:8080/"
        },
        "id": "C0WCKEXG-TdS",
        "outputId": "ffe418bf-d00c-415b-a7d4-72d72a947808"
      },
      "outputs": [
        {
          "output_type": "stream",
          "name": "stdout",
          "text": [
            "[[1. 0. 0.]\n",
            " [0. 1. 0.]\n",
            " [0. 0. 1.]]\n"
          ]
        }
      ],
      "source": [
        "import numpy as np\n",
        "\n",
        "# Create a 3x3 identity matrix\n",
        "identity_matrix = np.identity(3)\n",
        "\n",
        "# Print the identity matrix\n",
        "print(identity_matrix)"
      ]
    },
    {
      "cell_type": "code",
      "metadata": {
        "colab": {
          "base_uri": "https://localhost:8080/"
        },
        "id": "85cd90f4",
        "outputId": "34b77423-8d78-4041-8eb0-9afbe46707a7"
      },
      "source": [
        "import numpy as np\n",
        "\n",
        "# Create a diagonal matrix from a list of values\n",
        "diagonal_values = [1, 2, 3, 4]\n",
        "diagonal_matrix = np.diag(diagonal_values)\n",
        "\n",
        "# Print the diagonal matrix\n",
        "print(diagonal_matrix)"
      ],
      "execution_count": 4,
      "outputs": [
        {
          "output_type": "stream",
          "name": "stdout",
          "text": [
            "[[1 0 0 0]\n",
            " [0 2 0 0]\n",
            " [0 0 3 0]\n",
            " [0 0 0 4]]\n"
          ]
        }
      ]
    },
    {
      "cell_type": "code",
      "metadata": {
        "colab": {
          "base_uri": "https://localhost:8080/"
        },
        "id": "f87c672d",
        "outputId": "26b7e2f2-57ba-488a-beec-5c234bff0d98"
      },
      "source": [
        "import numpy as np\n",
        "\n",
        "# Define two vectors\n",
        "vector1 = np.array([1, 2, 3])\n",
        "vector2 = np.array([4, 5, 6])\n",
        "\n",
        "# Calculate the dot product\n",
        "dot_product = np.dot(vector1, vector2)\n",
        "\n",
        "# Print the dot product\n",
        "print(\"Vector 1:\", vector1)\n",
        "print(\"Vector 2:\", vector2)\n",
        "print(\"Dot product:\", dot_product)"
      ],
      "execution_count": 5,
      "outputs": [
        {
          "output_type": "stream",
          "name": "stdout",
          "text": [
            "Vector 1: [1 2 3]\n",
            "Vector 2: [4 5 6]\n",
            "Dot product: 32\n"
          ]
        }
      ]
    },
    {
      "cell_type": "code",
      "metadata": {
        "colab": {
          "base_uri": "https://localhost:8080/"
        },
        "id": "68aa773b",
        "outputId": "7c85a263-acfa-474f-e2a1-294734271221"
      },
      "source": [
        "import numpy as np\n",
        "\n",
        "# Define two vectors\n",
        "vector1 = np.array([1, 2, 3])\n",
        "vector2 = np.array([4, 5, 6])\n",
        "\n",
        "# Calculate the cross product\n",
        "cross_product = np.cross(vector1, vector2)\n",
        "\n",
        "# Calculate the magnitude of the cross product\n",
        "magnitude_cross_product = np.linalg.norm(cross_product)\n",
        "\n",
        "\n",
        "# Print the vector and cross product\n",
        "print(\"Vector 1:\", vector1)\n",
        "print(\"Vector 2:\", vector2)\n",
        "print(\"Cross product:\", cross_product)\n",
        "print(\"Magnitude of cross product:\", magnitude_cross_product)"
      ],
      "execution_count": 6,
      "outputs": [
        {
          "output_type": "stream",
          "name": "stdout",
          "text": [
            "Vector 1: [1 2 3]\n",
            "Vector 2: [4 5 6]\n",
            "Cross product: [-3  6 -3]\n",
            "Magnitude of cross product: 7.3484692283495345\n"
          ]
        }
      ]
    },
    {
      "cell_type": "code",
      "metadata": {
        "colab": {
          "base_uri": "https://localhost:8080/"
        },
        "id": "008c9c6d",
        "outputId": "e3834a59-23a1-41c8-aeca-94267450b3ad"
      },
      "source": [
        "import numpy as np\n",
        "\n",
        "# Create a sample matrix\n",
        "matrix = np.array([[1, 2, 3],\n",
        "                   [4, 5, 6]])\n",
        "\n",
        "# Calculate the transpose of the matrix\n",
        "transpose_matrix = np.transpose(matrix)\n",
        "\n",
        "# Print the original and transpose matrices\n",
        "print(\"Original Matrix:\\n\", matrix)\n",
        "print(\"\\nTranspose Matrix:\\n\", transpose_matrix)"
      ],
      "execution_count": 7,
      "outputs": [
        {
          "output_type": "stream",
          "name": "stdout",
          "text": [
            "Original Matrix:\n",
            " [[1 2 3]\n",
            " [4 5 6]]\n",
            "\n",
            "Transpose Matrix:\n",
            " [[1 4]\n",
            " [2 5]\n",
            " [3 6]]\n"
          ]
        }
      ]
    },
    {
      "cell_type": "code",
      "metadata": {
        "colab": {
          "base_uri": "https://localhost:8080/"
        },
        "id": "43d15005",
        "outputId": "d60377e3-3988-4e54-a098-353f9743b59b"
      },
      "source": [
        "import numpy as np\n",
        "from numpy.linalg import inv\n",
        "\n",
        "# Create a square matrix\n",
        "matrix = np.array([[1, 2],\n",
        "                   [3, 4]])\n",
        "\n",
        "# Calculate the inverse of the matrix\n",
        "try:\n",
        "    inverse_matrix = inv(matrix)\n",
        "    # Print the original and inverse matrices\n",
        "    print(\"Original Matrix:\\n\", matrix)\n",
        "    print(\"\\nInverse Matrix:\\n\", inverse_matrix)\n",
        "except np.linalg.LinAlgError:\n",
        "    print(\"The matrix is singular and does not have an inverse.\")"
      ],
      "execution_count": null,
      "outputs": [
        {
          "output_type": "stream",
          "name": "stdout",
          "text": [
            "Original Matrix:\n",
            " [[1 2]\n",
            " [3 4]]\n",
            "\n",
            "Inverse Matrix:\n",
            " [[-2.   1. ]\n",
            " [ 1.5 -0.5]]\n"
          ]
        }
      ]
    },
    {
      "cell_type": "code",
      "metadata": {
        "colab": {
          "base_uri": "https://localhost:8080/"
        },
        "id": "a3094551",
        "outputId": "59ce2a38-1641-48c2-ce92-b710fd978b38"
      },
      "source": [
        "import numpy as np\n",
        "\n",
        "# Create a sample square matrix\n",
        "matrix = np.array([[1, 2, 3],\n",
        "                   [4, 5, 6],\n",
        "                   [7, 8, 9]])\n",
        "\n",
        "# Calculate the trace of the matrix\n",
        "trace_value = np.trace(matrix)\n",
        "\n",
        "# Print the original matrix and its trace\n",
        "print(\"Original Matrix:\\n\", matrix)\n",
        "print(\"\\nTrace of the matrix:\", trace_value)"
      ],
      "execution_count": null,
      "outputs": [
        {
          "output_type": "stream",
          "name": "stdout",
          "text": [
            "Original Matrix:\n",
            " [[1 2 3]\n",
            " [4 5 6]\n",
            " [7 8 9]]\n",
            "\n",
            "Trace of the matrix: 15\n"
          ]
        }
      ]
    },
    {
      "cell_type": "code",
      "metadata": {
        "colab": {
          "base_uri": "https://localhost:8080/"
        },
        "id": "6eccd4e8",
        "outputId": "4e63d271-538b-434b-a2b7-ab7ac8e17807"
      },
      "source": [
        "import numpy as np\n",
        "from numpy.linalg import det\n",
        "\n",
        "# Create a sample square matrix\n",
        "matrix = np.array([[1, 2],\n",
        "                   [3, 4]])\n",
        "\n",
        "# Calculate the determinant of the matrix\n",
        "determinant_value = det(matrix)\n",
        "\n",
        "# Print the original matrix and its determinant\n",
        "print(\"Original Matrix:\\n\", matrix)\n",
        "print(\"\\nDeterminant of the matrix:\", determinant_value)"
      ],
      "execution_count": null,
      "outputs": [
        {
          "output_type": "stream",
          "name": "stdout",
          "text": [
            "Original Matrix:\n",
            " [[1 2]\n",
            " [3 4]]\n",
            "\n",
            "Determinant of the matrix: -2.0000000000000004\n"
          ]
        }
      ]
    },
    {
      "cell_type": "code",
      "metadata": {
        "colab": {
          "base_uri": "https://localhost:8080/"
        },
        "id": "825f443d",
        "outputId": "2532a038-6256-4b9a-bf10-6fe84fde98d9"
      },
      "source": [
        "import numpy as np\n",
        "from numpy.linalg import eigh\n",
        "\n",
        "# Create a symmetric matrix\n",
        "# A matrix A is symmetric if A = A^T\n",
        "matrix = np.array([[2, 1],\n",
        "                   [1, 3]])\n",
        "\n",
        "# Perform eigendecomposition for a symmetric matrix\n",
        "# eigh returns eigenvalues and eigenvectors for symmetric matrices\n",
        "eigenvalues, eigenvectors = eigh(matrix)\n",
        "\n",
        "# Print the original matrix, eigenvalues, and eigenvectors\n",
        "print(\"Original Symmetric Matrix:\\n\", matrix)\n",
        "print(\"\\nEigenvalues:\", eigenvalues)\n",
        "print(\"\\nEigenvectors:\\n\", eigenvectors)\n",
        "\n",
        "# Verify the decomposition: A = V @ D @ V.T\n",
        "# V is the matrix of eigenvectors (eigenvectors), D is a diagonal matrix of eigenvalues\n",
        "D = np.diag(eigenvalues)\n",
        "print(\"\\nDiagonal Matrix:\\n\", D)\n",
        "reconstructed_matrix = eigenvectors @ D @ eigenvectors.T\n",
        "\n",
        "print(\"\\nReconstructed Matrix (V @ D @ V.T):\\n\", reconstructed_matrix)"
      ],
      "execution_count": 14,
      "outputs": [
        {
          "output_type": "stream",
          "name": "stdout",
          "text": [
            "Original Symmetric Matrix:\n",
            " [[2 1]\n",
            " [1 3]]\n",
            "\n",
            "Eigenvalues: [1.38196601 3.61803399]\n",
            "\n",
            "Eigenvectors:\n",
            " [[-0.85065081  0.52573111]\n",
            " [ 0.52573111  0.85065081]]\n",
            "\n",
            "Diagonal Matrix:\n",
            " [[1.38196601 0.        ]\n",
            " [0.         3.61803399]]\n",
            "\n",
            "Reconstructed Matrix (V @ D @ V.T):\n",
            " [[2. 1.]\n",
            " [1. 3.]]\n"
          ]
        }
      ]
    },
    {
      "cell_type": "code",
      "metadata": {
        "colab": {
          "base_uri": "https://localhost:8080/"
        },
        "id": "f6f1a889",
        "outputId": "c4ab4db2-bbca-4e6a-e8ae-5fab5a0cfe98"
      },
      "source": [
        "import numpy as np\n",
        "from numpy.linalg import eig\n",
        "\n",
        "# Create a sample non-symmetric matrix\n",
        "matrix = np.array([[3, 2],\n",
        "                   [1, 4]])\n",
        "\n",
        "# Perform eigendecomposition for a general matrix\n",
        "# eig returns eigenvalues and eigenvectors\n",
        "eigenvalues, eigenvectors = eig(matrix)\n",
        "\n",
        "# Print the original matrix, eigenvalues, and eigenvectors\n",
        "print(\"Original Non-Symmetric Matrix:\\n\", matrix)\n",
        "print(\"\\nEigenvalues:\", eigenvalues)\n",
        "print(\"\\nEigenvectors:\\n\", eigenvectors)\n",
        "\n",
        "# Verify the decomposition: A @ v = lambda * v\n",
        "# Where A is the matrix, v is an eigenvector, and lambda is an eigenvalue\n",
        "# We can check this for the first eigenvector and eigenvalue\n",
        "v1 = eigenvectors[:, 0]\n",
        "lambda1 = eigenvalues[0]\n",
        "\n",
        "print(\"\\nVerification (A @ v1):\", matrix @ v1)\n",
        "print(\"Verification (lambda1 * v1):\", lambda1 * v1)\n",
        "\n",
        "# We can check this for the second eigenvector and eigenvalue\n",
        "v2 = eigenvectors[:, 1]\n",
        "lambda2 = eigenvalues[1]\n",
        "\n",
        "print(\"\\nVerification (A @ v2):\", matrix @ v2)\n",
        "print(\"Verification (lambda2 * v2):\", lambda2 * v2)"
      ],
      "execution_count": null,
      "outputs": [
        {
          "output_type": "stream",
          "name": "stdout",
          "text": [
            "Original Non-Symmetric Matrix:\n",
            " [[3 2]\n",
            " [1 4]]\n",
            "\n",
            "Eigenvalues: [2. 5.]\n",
            "\n",
            "Eigenvectors:\n",
            " [[-0.89442719 -0.70710678]\n",
            " [ 0.4472136  -0.70710678]]\n",
            "\n",
            "Verification (A @ v1): [-1.78885438  0.89442719]\n",
            "Verification (lambda1 * v1): [-1.78885438  0.89442719]\n",
            "\n",
            "Verification (A @ v2): [-3.53553391 -3.53553391]\n",
            "Verification (lambda2 * v2): [-3.53553391 -3.53553391]\n"
          ]
        }
      ]
    },
    {
      "cell_type": "code",
      "metadata": {
        "colab": {
          "base_uri": "https://localhost:8080/"
        },
        "id": "13d65a74",
        "outputId": "3964837f-c083-44f9-972c-1191d6e9fc5b"
      },
      "source": [
        "import numpy as np\n",
        "\n",
        "# Define another matrix for multiplication\n",
        "matrix_b = np.array([[1, 0, 0],\n",
        "                     [0, 1, 0],\n",
        "                     [0, 0, 1]]) # Identity matrix as an example\n",
        "\n",
        "# Perform matrix multiplication\n",
        "# Note: The dimensions must be compatible for matrix multiplication.\n",
        "# cross_product is a 1D array (vector), matrix_b is 2D\n",
        "# To multiply a vector by a matrix, we can treat the vector as a row or column matrix.\n",
        "# If cross_product is a row vector (1x3), and matrix_b is 3x3, the result will be 1x3.\n",
        "# If cross_product is a column vector (3x1), and matrix_b is 3x3, this operation is not directly supported by np.dot\n",
        "# np.dot(vector, matrix) treats the vector as a row vector.\n",
        "matrix_product = np.dot(cross_product, matrix_b)\n",
        "\n",
        "# Print the result of the matrix multiplication\n",
        "print(\"\\nMatrix B:\\n\", matrix_b)\n",
        "print(\"\\nResult of cross product multiplied by Matrix B:\", matrix_product)"
      ],
      "execution_count": 9,
      "outputs": [
        {
          "output_type": "stream",
          "name": "stdout",
          "text": [
            "\n",
            "Matrix B:\n",
            " [[1 0 0]\n",
            " [0 1 0]\n",
            " [0 0 1]]\n",
            "\n",
            "Result of cross product multiplied by Matrix B: [-3  6 -3]\n"
          ]
        }
      ]
    },
    {
      "cell_type": "code",
      "metadata": {
        "colab": {
          "base_uri": "https://localhost:8080/"
        },
        "id": "72f1dcfc",
        "outputId": "8cc769da-56a7-4c42-afd3-d6769d3c147d"
      },
      "source": [
        "import numpy as np\n",
        "\n",
        "# Define two 3x3 matrices for cross product (element-wise) and matrix multiplication\n",
        "matrix_a = np.array([[1, 2, 3],\n",
        "                     [4, 5, 6],\n",
        "                     [7, 8, 9]])\n",
        "\n",
        "matrix_b = np.array([[9, 8, 7],\n",
        "                     [6, 5, 4],\n",
        "                     [3, 2, 1]])\n",
        "\n",
        "# Perform element-wise cross product (this is not a standard matrix operation,\n",
        "# but numpy's cross function can be applied to arrays of vectors)\n",
        "# For 3x3 matrices, this will perform the cross product of corresponding rows.\n",
        "# If you intended vector cross product, please clarify which rows/columns to use.\n",
        "element_wise_cross_product = np.cross(matrix_a, matrix_b)\n",
        "\n",
        "# Perform standard matrix multiplication\n",
        "matrix_product = np.dot(matrix_a, matrix_b)\n",
        "\n",
        "# Print the original matrices and the results\n",
        "print(\"Matrix A:\\n\", matrix_a)\n",
        "print(\"\\nMatrix B:\\n\", matrix_b)\n",
        "print(\"\\nElement-wise Cross Product (of rows):\\n\", element_wise_cross_product)\n",
        "print(\"\\nMatrix Multiplication (A @ B):\\n\", matrix_product)"
      ],
      "execution_count": 10,
      "outputs": [
        {
          "output_type": "stream",
          "name": "stdout",
          "text": [
            "Matrix A:\n",
            " [[1 2 3]\n",
            " [4 5 6]\n",
            " [7 8 9]]\n",
            "\n",
            "Matrix B:\n",
            " [[9 8 7]\n",
            " [6 5 4]\n",
            " [3 2 1]]\n",
            "\n",
            "Element-wise Cross Product (of rows):\n",
            " [[-10  20 -10]\n",
            " [-10  20 -10]\n",
            " [-10  20 -10]]\n",
            "\n",
            "Matrix Multiplication (A @ B):\n",
            " [[ 30  24  18]\n",
            " [ 84  69  54]\n",
            " [138 114  90]]\n"
          ]
        }
      ]
    }
  ]
}