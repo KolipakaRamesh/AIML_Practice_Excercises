{
  "nbformat": 4,
  "nbformat_minor": 0,
  "metadata": {
    "colab": {
      "provenance": [],
      "authorship_tag": "ABX9TyNxoERZ01EswCJv9lTBbpV2",
      "include_colab_link": true
    },
    "kernelspec": {
      "name": "python3",
      "display_name": "Python 3"
    },
    "language_info": {
      "name": "python"
    }
  },
  "cells": [
    {
      "cell_type": "markdown",
      "metadata": {
        "id": "view-in-github",
        "colab_type": "text"
      },
      "source": [
        "<a href=\"https://colab.research.google.com/github/KolipakaRamesh/AIML_Practice_Excercises/blob/main/NLP_Cleaning_Normalization.ipynb\" target=\"_parent\"><img src=\"https://colab.research.google.com/assets/colab-badge.svg\" alt=\"Open In Colab\"/></a>"
      ]
    },
    {
      "cell_type": "code",
      "execution_count": null,
      "metadata": {
        "id": "3NmvIg3YcxsL"
      },
      "outputs": [],
      "source": []
    },
    {
      "cell_type": "markdown",
      "metadata": {
        "id": "e39875c8"
      },
      "source": [
        "Let's start with some basic text cleaning techniques. These often involve removing unwanted characters, punctuation, and converting text to lowercase."
      ]
    },
    {
      "cell_type": "code",
      "metadata": {
        "colab": {
          "base_uri": "https://localhost:8080/"
        },
        "id": "fad438f3",
        "outputId": "a92d4249-69ea-4105-c19a-a91bd5c94fcf"
      },
      "source": [
        "import re\n",
        "import string\n",
        "\n",
        "text = \"  Hello, world! This is a sample sentence with some extra spaces and weird characters like #$@!.  \"\n",
        "\n",
        "# 1. Convert to lowercase\n",
        "text_lower = text.lower()\n",
        "print(f\"Lowercase: {text_lower}\")\n",
        "\n",
        "# 2. Remove leading/trailing whitespace\n",
        "text_stripped = text_lower.strip()\n",
        "print(f\"Stripped: {text_stripped}\")\n",
        "\n",
        "# 3. Remove punctuation\n",
        "text_no_punct = text_stripped.translate(str.maketrans('', '', string.punctuation))\n",
        "print(f\"No punctuation: {text_no_punct}\")\n",
        "\n",
        "# 4. Remove extra whitespace within text\n",
        "text_cleaned = re.sub(r'\\s+', ' ', text_no_punct).strip()\n",
        "print(f\"Cleaned: {text_cleaned}\")"
      ],
      "execution_count": 5,
      "outputs": [
        {
          "output_type": "stream",
          "name": "stdout",
          "text": [
            "Lowercase:   hello, world! this is a sample sentence with some extra spaces and weird characters like #$@!.  \n",
            "Stripped: hello, world! this is a sample sentence with some extra spaces and weird characters like #$@!.\n",
            "No punctuation: hello world this is a sample sentence with some extra spaces and weird characters like \n",
            "Cleaned: hello world this is a sample sentence with some extra spaces and weird characters like\n"
          ]
        }
      ]
    },
    {
      "cell_type": "markdown",
      "metadata": {
        "id": "585dfe25"
      },
      "source": [
        "Now, let's look at some normalization techniques. These aim to bring words to a standard form, like stemming and lemmatization."
      ]
    },
    {
      "cell_type": "code",
      "metadata": {
        "colab": {
          "base_uri": "https://localhost:8080/"
        },
        "id": "1c7b2caf",
        "outputId": "fe828071-cbbf-45ab-8ea8-23225cdc89bb"
      },
      "source": [
        "import nltk\n",
        "from nltk.stem import PorterStemmer\n",
        "from nltk.stem import WordNetLemmatizer\n",
        "from nltk.corpus import wordnet\n",
        "\n",
        "nltk.download('punkt')\n",
        "nltk.download('wordnet')\n",
        "nltk.download('averaged_perceptron_tagger')\n",
        "nltk.download('punkt_tab') # Add this line to download the required resource\n",
        "nltk.download('averaged_perceptron_tagger_eng')\n",
        "\n",
        "text = \"running ran runs runner runners\"\n",
        "\n",
        "# 1. Stemming (using Porter Stemmer)\n",
        "stemmer = PorterStemmer()\n",
        "stemmed_words = [stemmer.stem(word) for word in nltk.word_tokenize(text)]\n",
        "print(f\"Stemmed: {stemmed_words}\")\n",
        "\n",
        "# 2. Lemmatization (using WordNet Lemmatizer)\n",
        "lemmatizer = WordNetLemmatizer()\n",
        "\n",
        "# Helper function to get WordNet part-of-speech tag\n",
        "def get_wordnet_pos(word):\n",
        "    \"\"\"Map POS tag to first character used by WordNetLemmatizer\"\"\"\n",
        "    tag = nltk.pos_tag([word])[0][1][0].upper()\n",
        "    tag_dict = {\"J\": wordnet.ADJ,\n",
        "                \"N\": wordnet.NOUN,\n",
        "                \"V\": wordnet.VERB,\n",
        "                \"R\": wordnet.ADV}\n",
        "    return tag_dict.get(tag, wordnet.NOUN)\n",
        "\n",
        "lemmatized_words = [lemmatizer.lemmatize(word, get_wordnet_pos(word)) for word in nltk.word_tokenize(text)]\n",
        "print(f\"Lemmatized: {lemmatized_words}\")"
      ],
      "execution_count": 6,
      "outputs": [
        {
          "output_type": "stream",
          "name": "stdout",
          "text": [
            "Stemmed: ['run', 'ran', 'run', 'runner', 'runner']\n",
            "Lemmatized: ['run', 'ran', 'run', 'runner', 'runner']\n"
          ]
        },
        {
          "output_type": "stream",
          "name": "stderr",
          "text": [
            "[nltk_data] Downloading package punkt to /root/nltk_data...\n",
            "[nltk_data]   Package punkt is already up-to-date!\n",
            "[nltk_data] Downloading package wordnet to /root/nltk_data...\n",
            "[nltk_data]   Package wordnet is already up-to-date!\n",
            "[nltk_data] Downloading package averaged_perceptron_tagger to\n",
            "[nltk_data]     /root/nltk_data...\n",
            "[nltk_data]   Package averaged_perceptron_tagger is already up-to-\n",
            "[nltk_data]       date!\n",
            "[nltk_data] Downloading package punkt_tab to /root/nltk_data...\n",
            "[nltk_data]   Package punkt_tab is already up-to-date!\n",
            "[nltk_data] Downloading package averaged_perceptron_tagger_eng to\n",
            "[nltk_data]     /root/nltk_data...\n",
            "[nltk_data]   Package averaged_perceptron_tagger_eng is already up-to-\n",
            "[nltk_data]       date!\n"
          ]
        }
      ]
    },
    {
      "cell_type": "markdown",
      "metadata": {
        "id": "dc49340a"
      },
      "source": [
        "You can combine these techniques for a more comprehensive cleaning and normalization pipeline."
      ]
    }
  ]
}