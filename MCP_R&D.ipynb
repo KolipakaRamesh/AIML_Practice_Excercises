{
  "nbformat": 4,
  "nbformat_minor": 0,
  "metadata": {
    "colab": {
      "provenance": [],
      "authorship_tag": "ABX9TyNF+qgVrk/S3ZACSgtZfCdl",
      "include_colab_link": true
    },
    "kernelspec": {
      "name": "python3",
      "display_name": "Python 3"
    },
    "language_info": {
      "name": "python"
    }
  },
  "cells": [
    {
      "cell_type": "markdown",
      "metadata": {
        "id": "view-in-github",
        "colab_type": "text"
      },
      "source": [
        "<a href=\"https://colab.research.google.com/github/KolipakaRamesh/AIML_Practice_Excercises/blob/main/MCP_R%26D.ipynb\" target=\"_parent\"><img src=\"https://colab.research.google.com/assets/colab-badge.svg\" alt=\"Open In Colab\"/></a>"
      ]
    },
    {
      "cell_type": "code",
      "execution_count": 15,
      "metadata": {
        "id": "_1Hrs9Nw-mLJ"
      },
      "outputs": [],
      "source": [
        "# Cell 1: Install required packages\n",
        "!pip install -q transformers langchain accelerate"
      ]
    },
    {
      "cell_type": "code",
      "source": [
        "from transformers import pipeline, GPT2Tokenizer\n",
        "from langchain.llms import HuggingFacePipeline\n",
        "from langchain.prompts import PromptTemplate\n",
        "from langchain.chains import LLMChain\n",
        "from langchain.memory import ConversationBufferMemory\n",
        "\n",
        "# ✅ Subclass ConversationBufferMemory using a private _max_turns field\n",
        "class LimitedConversationMemory(ConversationBufferMemory):\n",
        "    def __init__(self, **kwargs):\n",
        "        super().__init__(**kwargs)\n",
        "        self._max_turns = 3  # Limit to last 3 Human+AI exchanges\n",
        "\n",
        "    @property\n",
        "    def buffer(self):\n",
        "        lines = super().buffer.strip().split('\\n')\n",
        "        limited_lines = lines[-self._max_turns * 2:]  # Each turn = Human + AI\n",
        "        return \"\\n\".join(limited_lines)\n"
      ],
      "metadata": {
        "id": "_F1lJrcrk7iE"
      },
      "execution_count": 30,
      "outputs": []
    },
    {
      "cell_type": "code",
      "source": [
        "# Load GPT-2 model and tokenizer\n",
        "model_name = \"gpt2\"\n",
        "tokenizer = GPT2Tokenizer.from_pretrained(model_name)\n",
        "\n",
        "hf_pipe = pipeline(\n",
        "    \"text-generation\",\n",
        "    model=model_name,\n",
        "    tokenizer=tokenizer,\n",
        "    max_new_tokens=100,\n",
        "    temperature=0.7,\n",
        "    top_p=0.9,\n",
        "    do_sample=True,\n",
        ")\n",
        "\n",
        "llm = HuggingFacePipeline(pipeline=hf_pipe)\n",
        "\n",
        "# Prompt template for chat-style interaction\n",
        "prompt = PromptTemplate.from_template(\n",
        "    \"\"\"This is a conversation between a curious human and a helpful AI assistant.\n",
        "\n",
        "{history}\n",
        "Human: {input}\n",
        "AI:\"\"\"\n",
        ")\n",
        "\n",
        "# ✅ Use our custom limited memory class\n",
        "memory = LimitedConversationMemory(return_messages=False)\n",
        "\n",
        "# Create LLMChain with prompt and memory\n",
        "chain = LLMChain(llm=llm, prompt=prompt, memory=memory, verbose=True)\n"
      ],
      "metadata": {
        "id": "xdVtxWJWk9I-"
      },
      "execution_count": null,
      "outputs": []
    },
    {
      "cell_type": "code",
      "source": [
        "def run_mcp_chat():\n",
        "    print(\"🔁 MCP R&D Chat (GPT-2). Type 'exit' or 'quit' to stop.\\n\")\n",
        "    while True:\n",
        "        user_input = input(\"You: \")\n",
        "        if user_input.lower() in {\"exit\", \"quit\"}:\n",
        "            print(\"👋 Exiting chat.\")\n",
        "            break\n",
        "\n",
        "        # Run chain and get response\n",
        "        response = chain.run(user_input)\n",
        "\n",
        "        # Show prompt token count for debug (optional)\n",
        "        full_prompt = prompt.format(input=user_input, history=memory.buffer)\n",
        "        token_count = len(tokenizer.encode(full_prompt))\n",
        "        print(f\"\\n[Prompt Token Count]: {token_count}\")\n",
        "\n",
        "        print(f\"AI: {response.strip()}\\n\")\n",
        "        print(\"-\" * 40)\n",
        "\n",
        "# Start the chat\n",
        "run_mcp_chat()\n"
      ],
      "metadata": {
        "id": "zhApdBpilCuG"
      },
      "execution_count": null,
      "outputs": []
    }
  ]
}