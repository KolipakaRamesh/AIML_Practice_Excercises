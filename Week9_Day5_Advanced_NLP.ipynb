{
 "cells": [
  {
   "cell_type": "markdown",
   "metadata": {},
   "source": [
    "# Week 9, Day 5: Advanced NLP Topics\n",
    "\n",
    "## Learning Objectives\n",
    "- Understand advanced NLP concepts\n",
    "- Learn text generation techniques\n",
    "- Master language understanding\n",
    "- Practice implementing NLP solutions\n",
    "\n",
    "## Topics Covered\n",
    "1. Text Generation\n",
    "2. Question Answering\n",
    "3. Text Summarization\n",
    "4. Language Understanding"
   ]
  },
  {
   "cell_type": "code",
   "execution_count": null,
   "metadata": {},
   "source": [
    "# Import required libraries\n",
    "import numpy as np\n",
    "import tensorflow as tf\n",
    "from transformers import (\n",
    "    AutoTokenizer,\n",
    "    AutoModelForQuestionAnswering,\n",
    "    AutoModelForSeq2SeqLM,\n",
    "    pipeline\n",
    ")"
   ]
  },
  {
   "cell_type": "markdown",
   "metadata": {},
   "source": [
    "## 1. Text Generation"
   ]
  },
  {
   "cell_type": "code",
   "execution_count": null,
   "metadata": {},
   "source": [
    "def text_generation_example():\n",
    "    # Initialize text generation pipeline\n",
    "    generator = pipeline('text-generation', model='gpt2')\n",
    "    \n",
    "    # Example prompts\n",
    "    prompts = [\n",
    "        \"The future of artificial intelligence\",\n",
    "        \"Once upon a time in a digital world\",\n",
    "        \"The most important aspect of machine learning is\"\n",
    "    ]\n",
    "    \n",
    "    # Generate text for each prompt\n",
    "    for prompt in prompts:\n",
    "        generated = generator(\n",
    "            prompt,\n",
    "            max_length=100,\n",
    "            num_return_sequences=1,\n",
    "            temperature=0.7\n",
    "        )\n",
    "        print(f\"\\nPrompt: {prompt}\")\n",
    "        print(f\"Generated: {generated[0]['generated_text']}\")\n",
    "\n",
    "text_generation_example()"
   ]
  },
  {
   "cell_type": "markdown",
   "metadata": {},
   "source": [
    "## 2. Question Answering"
   ]
  },
  {
   "cell_type": "code",
   "execution_count": null,
   "metadata": {},
   "source": [
    "def question_answering_example():\n",
    "    # Initialize QA pipeline\n",
    "    qa_pipeline = pipeline('question-answering')\n",
    "    \n",
    "    # Example context and questions\n",
    "    context = \"\"\"\n",
    "    Machine learning is a subset of artificial intelligence that focuses on \n",
    "    developing systems that can learn from and make decisions based on data. \n",
    "    Deep learning is a type of machine learning that uses neural networks \n",
    "    with multiple layers. Reinforcement learning is another type that learns \n",
    "    through interaction with an environment.\n",
    "    \"\"\"\n",
    "    \n",
    "    questions = [\n",
    "        \"What is machine learning?\",\n",
    "        \"What type of learning uses neural networks?\",\n",
    "        \"How does reinforcement learning work?\"\n",
    "    ]\n",
    "    \n",
    "    # Get answers for each question\n",
    "    for question in questions:\n",
    "        answer = qa_pipeline({\n",
    "            'question': question,\n",
    "            'context': context\n",
    "        })\n",
    "        print(f\"\\nQ: {question}\")\n",
    "        print(f\"A: {answer['answer']}\")\n",
    "\n",
    "question_answering_example()"
   ]
  },
  {
   "cell_type": "markdown",
   "metadata": {},
   "source": [
    "## 3. Text Summarization"
   ]
  },
  {
   "cell_type": "code",
   "execution_count": null,
   "metadata": {},
   "source": [
    "def text_summarization_example():\n",
    "    # Initialize summarization pipeline\n",
    "    summarizer = pipeline('summarization')\n",
    "    \n",
    "    # Example text\n",
    "    text = \"\"\"\n",
    "    Artificial Intelligence has transformed various sectors of society, from \n",
    "    healthcare to transportation. In healthcare, AI systems can analyze medical \n",
    "    images and help diagnose diseases. In transportation, self-driving cars use \n",
    "    AI to navigate roads and make decisions. The technology continues to evolve, \n",
    "    with new applications being discovered regularly. However, there are also \n",
    "    concerns about AI's impact on privacy, jobs, and society as a whole.\n",
    "    \"\"\"\n",
    "    \n",
    "    # Generate summary\n",
    "    summary = summarizer(\n",
    "        text,\n",
    "        max_length=130,\n",
    "        min_length=30,\n",
    "        do_sample=False\n",
    "    )\n",
    "    \n",
    "    print(\"Original Text:\")\n",
    "    print(text)\n",
    "    print(\"\\nSummary:\")\n",
    "    print(summary[0]['summary_text'])\n",
    "\n",
    "text_summarization_example()"
   ]
  },
  {
   "cell_type": "markdown",
   "metadata": {},
   "source": [
    "## 4. Language Understanding"
   ]
  },
  {
   "cell_type": "code",
   "execution_count": null,
   "metadata": {},
   "source": [
    "def language_understanding_example():\n",
    "    # Initialize various NLP pipelines\n",
    "    sentiment_analyzer = pipeline('sentiment-analysis')\n",
    "    ner = pipeline('ner')\n",
    "    classifier = pipeline('zero-shot-classification')\n",
    "    \n",
    "    # Example text\n",
    "    text = \"Apple CEO Tim Cook announced the new iPhone at their headquarters in California.\"\n",
    "    \n",
    "    # Sentiment analysis\n",
    "    sentiment = sentiment_analyzer(text)\n",
    "    print(\"Sentiment Analysis:\")\n",
    "    print(sentiment)\n",
    "    \n",
    "    # Named Entity Recognition\n",
    "    entities = ner(text)\n",
    "    print(\"\\nNamed Entities:\")\n",
    "    print(entities)\n",
    "    \n",
    "    # Zero-shot classification\n",
    "    labels = ['technology', 'business', 'entertainment']\n",
    "    classification = classifier(text, labels)\n",
    "    print(\"\\nClassification:\")\n",
    "    print(classification)\n",
    "\n",
    "language_understanding_example()"
   ]
  },
  {
   "cell_type": "markdown",
   "metadata": {},
   "source": [
    "## Practical Exercises"
   ]
  },
  {
   "cell_type": "code",
   "execution_count": null,
   "metadata": {},
   "source": [
    "# Exercise 1: Text Generation System\n",
    "\n",
    "def text_generation_exercise():\n",
    "    print(\"Task: Implement text generation system\")\n",
    "    print(\"1. Create generation model\")\n",
    "    print(\"2. Implement text processing\")\n",
    "    print(\"3. Add control parameters\")\n",
    "    print(\"4. Generate samples\")\n",
    "    \n",
    "    # Your code here\n",
    "\n",
    "text_generation_exercise()"
   ]
  },
  {
   "cell_type": "code",
   "execution_count": null,
   "metadata": {},
   "source": [
    "# Exercise 2: QA System\n",
    "\n",
    "def qa_system_exercise():\n",
    "    print(\"Task: Implement QA system\")\n",
    "    print(\"1. Create QA model\")\n",
    "    print(\"2. Process questions\")\n",
    "    print(\"3. Extract answers\")\n",
    "    print(\"4. Evaluate accuracy\")\n",
    "    \n",
    "    # Your code here\n",
    "\n",
    "qa_system_exercise()"
   ]
  },
  {
   "cell_type": "markdown",
   "metadata": {},
   "source": [
    "## MCQ Quiz\n",
    "\n",
    "1. What is text generation?\n",
    "   - a) Text classification\n",
    "   - b) Content creation\n",
    "   - c) Text analysis\n",
    "   - d) Data processing\n",
    "\n",
    "2. What is question answering?\n",
    "   - a) Text generation\n",
    "   - b) Answer extraction\n",
    "   - c) Classification\n",
    "   - d) Summarization\n",
    "\n",
    "3. What is text summarization?\n",
    "   - a) Text generation\n",
    "   - b) Content reduction\n",
    "   - c) Classification\n",
    "   - d) Translation\n",
    "\n",
    "4. What is named entity recognition?\n",
    "   - a) Text generation\n",
    "   - b) Entity extraction\n",
    "   - c) Classification\n",
    "   - d) Translation\n",
    "\n",
    "5. What is sentiment analysis?\n",
    "   - a) Text generation\n",
    "   - b) Emotion detection\n",
    "   - c) Entity extraction\n",
    "   - d) Translation\n",
    "\n",
    "6. What is zero-shot learning?\n",
    "   - a) Full training\n",
    "   - b) No example learning\n",
    "   - c) Transfer learning\n",
    "   - d) Fine-tuning\n",
    "\n",
    "7. What is beam search?\n",
    "   - a) Random search\n",
    "   - b) Generation strategy\n",
    "   - c) Training method\n",
    "   - d) Loss function\n",
    "\n",
    "8. What is extractive summarization?\n",
    "   - a) Text generation\n",
    "   - b) Content selection\n",
    "   - c) Paraphrasing\n",
    "   - d) Translation\n",
    "\n",
    "9. What is abstractive summarization?\n",
    "   - a) Content selection\n",
    "   - b) Content generation\n",
    "   - c) Classification\n",
    "   - d) Translation\n",
    "\n",
    "10. What is transfer learning in NLP?\n",
    "    - a) Text generation\n",
    "    - b) Knowledge reuse\n",
    "    - c) Classification\n",
    "    - d) Translation\n",
    "\n",
    "Answers: 1-b, 2-b, 3-b, 4-b, 5-b, 6-b, 7-b, 8-b, 9-b, 10-b"
   ]
  }
 ],
 "metadata": {
  "kernelspec": {
   "display_name": "Python 3",
   "language": "python",
   "name": "python3"
  }
 },
 "nbformat": 4,
 "nbformat_minor": 2
}