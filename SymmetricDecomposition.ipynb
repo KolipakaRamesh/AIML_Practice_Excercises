{
  "nbformat": 4,
  "nbformat_minor": 0,
  "metadata": {
    "colab": {
      "provenance": [],
      "authorship_tag": "ABX9TyMSBrb0/icI+8jZcBWUmX8R",
      "include_colab_link": true
    },
    "kernelspec": {
      "name": "python3",
      "display_name": "Python 3"
    },
    "language_info": {
      "name": "python"
    }
  },
  "cells": [
    {
      "cell_type": "markdown",
      "metadata": {
        "id": "view-in-github",
        "colab_type": "text"
      },
      "source": [
        "<a href=\"https://colab.research.google.com/github/KolipakaRamesh/AIML_Practice_Excercises/blob/main/SymmetricDecomposition.ipynb\" target=\"_parent\"><img src=\"https://colab.research.google.com/assets/colab-badge.svg\" alt=\"Open In Colab\"/></a>"
      ]
    },
    {
      "cell_type": "code",
      "execution_count": null,
      "metadata": {
        "id": "6ea56DzOp4ZL"
      },
      "outputs": [],
      "source": []
    },
    {
      "cell_type": "code",
      "metadata": {
        "colab": {
          "base_uri": "https://localhost:8080/",
          "height": 347
        },
        "id": "e762c1c8",
        "outputId": "044ea3c8-d04b-4372-e9eb-a5b3ea79c18c"
      },
      "source": [
        "import numpy as np\n",
        "\n",
        "# Create a 3x3 matrix\n",
        "A = np.array([[1, 2, 3],\n",
        "              [4, 5, 6],\n",
        "              [7, 8, 9]])\n",
        "\n",
        "# Transpose the matrix\n",
        "A_transpose = A.T\n",
        "\n",
        "# Add the original and transposed matrices\n",
        "sum_matrix = A + A_transpose\n",
        "\n",
        "# Divide the result by 2\n",
        "result_matrix = sum_matrix / 2\n",
        "\n",
        "# Display the result\n",
        "print(\"Original Matrix A:\")\n",
        "display(A)\n",
        "print(\"\\nTransposed Matrix A_transpose:\")\n",
        "display(A_transpose)\n",
        "print(\"\\nSum of A and A_transpose:\")\n",
        "display(sum_matrix)\n",
        "print(\"\\nResult (Sum divided by 2):\")\n",
        "display(result_matrix)"
      ],
      "execution_count": 1,
      "outputs": [
        {
          "output_type": "stream",
          "name": "stdout",
          "text": [
            "Original Matrix A:\n"
          ]
        },
        {
          "output_type": "display_data",
          "data": {
            "text/plain": [
              "array([[1, 2, 3],\n",
              "       [4, 5, 6],\n",
              "       [7, 8, 9]])"
            ]
          },
          "metadata": {}
        },
        {
          "output_type": "stream",
          "name": "stdout",
          "text": [
            "\n",
            "Transposed Matrix A_transpose:\n"
          ]
        },
        {
          "output_type": "display_data",
          "data": {
            "text/plain": [
              "array([[1, 4, 7],\n",
              "       [2, 5, 8],\n",
              "       [3, 6, 9]])"
            ]
          },
          "metadata": {}
        },
        {
          "output_type": "stream",
          "name": "stdout",
          "text": [
            "\n",
            "Sum of A and A_transpose:\n"
          ]
        },
        {
          "output_type": "display_data",
          "data": {
            "text/plain": [
              "array([[ 2,  6, 10],\n",
              "       [ 6, 10, 14],\n",
              "       [10, 14, 18]])"
            ]
          },
          "metadata": {}
        },
        {
          "output_type": "stream",
          "name": "stdout",
          "text": [
            "\n",
            "Result (Sum divided by 2):\n"
          ]
        },
        {
          "output_type": "display_data",
          "data": {
            "text/plain": [
              "array([[1., 3., 5.],\n",
              "       [3., 5., 7.],\n",
              "       [5., 7., 9.]])"
            ]
          },
          "metadata": {}
        }
      ]
    },
    {
      "cell_type": "markdown",
      "metadata": {
        "id": "7754b946"
      },
      "source": [
        "Now, I'll perform the subtraction of the transposed matrix from the original and divide the result by 2."
      ]
    },
    {
      "cell_type": "code",
      "metadata": {
        "colab": {
          "base_uri": "https://localhost:8080/",
          "height": 347
        },
        "id": "284ba79e",
        "outputId": "8a222d21-ca9b-40e5-efb2-18a814540b16"
      },
      "source": [
        "import numpy as np\n",
        "\n",
        "# Create a 3x3 matrix (using the same matrix A as before)\n",
        "A = np.array([[1, 2, 3],\n",
        "              [4, 5, 6],\n",
        "              [7, 8, 9]])\n",
        "\n",
        "# Transpose the matrix\n",
        "A_transpose = A.T\n",
        "\n",
        "# Subtract the transposed matrix from the original\n",
        "difference_matrix = A - A_transpose\n",
        "\n",
        "# Divide the result by 2\n",
        "result_matrix_subtraction = difference_matrix / 2\n",
        "\n",
        "# Display the result\n",
        "print(\"Original Matrix A:\")\n",
        "display(A)\n",
        "print(\"\\nTransposed Matrix A_transpose:\")\n",
        "display(A_transpose)\n",
        "print(\"\\nDifference of A and A_transpose:\")\n",
        "display(difference_matrix)\n",
        "print(\"\\nResult (Difference divided by 2):\")\n",
        "display(result_matrix_subtraction)"
      ],
      "execution_count": 3,
      "outputs": [
        {
          "output_type": "stream",
          "name": "stdout",
          "text": [
            "Original Matrix A:\n"
          ]
        },
        {
          "output_type": "display_data",
          "data": {
            "text/plain": [
              "array([[1, 2, 3],\n",
              "       [4, 5, 6],\n",
              "       [7, 8, 9]])"
            ]
          },
          "metadata": {}
        },
        {
          "output_type": "stream",
          "name": "stdout",
          "text": [
            "\n",
            "Transposed Matrix A_transpose:\n"
          ]
        },
        {
          "output_type": "display_data",
          "data": {
            "text/plain": [
              "array([[1, 4, 7],\n",
              "       [2, 5, 8],\n",
              "       [3, 6, 9]])"
            ]
          },
          "metadata": {}
        },
        {
          "output_type": "stream",
          "name": "stdout",
          "text": [
            "\n",
            "Difference of A and A_transpose:\n"
          ]
        },
        {
          "output_type": "display_data",
          "data": {
            "text/plain": [
              "array([[ 0, -2, -4],\n",
              "       [ 2,  0, -2],\n",
              "       [ 4,  2,  0]])"
            ]
          },
          "metadata": {}
        },
        {
          "output_type": "stream",
          "name": "stdout",
          "text": [
            "\n",
            "Result (Difference divided by 2):\n"
          ]
        },
        {
          "output_type": "display_data",
          "data": {
            "text/plain": [
              "array([[ 0., -1., -2.],\n",
              "       [ 1.,  0., -1.],\n",
              "       [ 2.,  1.,  0.]])"
            ]
          },
          "metadata": {}
        }
      ]
    },
    {
      "cell_type": "code",
      "metadata": {
        "colab": {
          "base_uri": "https://localhost:8080/",
          "height": 86
        },
        "id": "6ed5c1a2",
        "outputId": "516ff2b8-bb1a-48db-c00b-5601a332f9b5"
      },
      "source": [
        "# Sum the two result matrices\n",
        "sum_of_results = result_matrix + result_matrix_subtraction\n",
        "\n",
        "# Display the sum\n",
        "print(\"Sum of result_matrix and result_matrix_subtraction:\")\n",
        "display(sum_of_results)"
      ],
      "execution_count": 4,
      "outputs": [
        {
          "output_type": "stream",
          "name": "stdout",
          "text": [
            "Sum of result_matrix and result_matrix_subtraction:\n"
          ]
        },
        {
          "output_type": "display_data",
          "data": {
            "text/plain": [
              "array([[1., 2., 3.],\n",
              "       [4., 5., 6.],\n",
              "       [7., 8., 9.]])"
            ]
          },
          "metadata": {}
        }
      ]
    }
  ]
}