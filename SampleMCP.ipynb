{
  "nbformat": 4,
  "nbformat_minor": 0,
  "metadata": {
    "colab": {
      "provenance": [],
      "authorship_tag": "ABX9TyPRWyLRxWtbEt8d6P1m81N6",
      "include_colab_link": true
    },
    "kernelspec": {
      "name": "python3",
      "display_name": "Python 3"
    },
    "language_info": {
      "name": "python"
    }
  },
  "cells": [
    {
      "cell_type": "markdown",
      "metadata": {
        "id": "view-in-github",
        "colab_type": "text"
      },
      "source": [
        "<a href=\"https://colab.research.google.com/github/KolipakaRamesh/AIML_Practice_Excercises/blob/main/SampleMCP.ipynb\" target=\"_parent\"><img src=\"https://colab.research.google.com/assets/colab-badge.svg\" alt=\"Open In Colab\"/></a>"
      ]
    },
    {
      "cell_type": "code",
      "source": [
        "!pip install langchain langchain-community transformers"
      ],
      "metadata": {
        "collapsed": true,
        "id": "MqPWTbxg6O3R"
      },
      "execution_count": null,
      "outputs": []
    },
    {
      "cell_type": "code",
      "source": [
        "from transformers import pipeline\n",
        "from langchain.llms import HuggingFacePipeline\n",
        "\n",
        "hf_pipe = pipeline(\"text-generation\", model=\"gpt2\", max_new_tokens=50)\n",
        "llm = HuggingFacePipeline(pipeline=hf_pipe)"
      ],
      "metadata": {
        "id": "h_I8HdSM6Zyr"
      },
      "execution_count": null,
      "outputs": []
    },
    {
      "cell_type": "code",
      "source": [
        "from langchain.prompts import PromptTemplate\n",
        "from langchain.chains import LLMChain\n",
        "\n",
        "prompt = PromptTemplate.from_template(\"Summarize this: {text}\")\n",
        "chain = LLMChain(prompt=prompt, llm=llm)\n"
      ],
      "metadata": {
        "id": "lZYN1RCV6hsh"
      },
      "execution_count": null,
      "outputs": []
    },
    {
      "cell_type": "code",
      "source": [
        "response = chain.run(\"Artificial intelligence is changing the world rapidly.\")\n",
        "print(response)"
      ],
      "metadata": {
        "id": "iYzsioGB6j4o"
      },
      "execution_count": null,
      "outputs": []
    }
  ]
}