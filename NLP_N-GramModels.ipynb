{
  "nbformat": 4,
  "nbformat_minor": 0,
  "metadata": {
    "colab": {
      "provenance": [],
      "authorship_tag": "ABX9TyOAu1B8JbLVdWxX7iwPTHBp",
      "include_colab_link": true
    },
    "kernelspec": {
      "name": "python3",
      "display_name": "Python 3"
    },
    "language_info": {
      "name": "python"
    }
  },
  "cells": [
    {
      "cell_type": "markdown",
      "metadata": {
        "id": "view-in-github",
        "colab_type": "text"
      },
      "source": [
        "<a href=\"https://colab.research.google.com/github/KolipakaRamesh/AIML_Practice_Excercises/blob/main/NLP_N-GramModels.ipynb\" target=\"_parent\"><img src=\"https://colab.research.google.com/assets/colab-badge.svg\" alt=\"Open In Colab\"/></a>"
      ]
    },
    {
      "cell_type": "code",
      "execution_count": null,
      "metadata": {
        "id": "84tEWKaRkMg9"
      },
      "outputs": [],
      "source": []
    },
    {
      "cell_type": "markdown",
      "metadata": {
        "id": "7686ac73"
      },
      "source": [
        "An n-gram is a contiguous sequence of n items from a given sample of text or speech. In the context of NLP, n-grams are often used as features for various tasks like language modeling, text classification, and machine translation.\n",
        "\n",
        "Here's how you can generate n-grams using Python and the `nltk` library:"
      ]
    },
    {
      "cell_type": "code",
      "metadata": {
        "colab": {
          "base_uri": "https://localhost:8080/"
        },
        "id": "d53e2ef7",
        "outputId": "bb3103f3-b4b8-43c2-90cc-722d65cce286"
      },
      "source": [
        "import nltk\n",
        "from nltk.util import ngrams\n",
        "from nltk.tokenize import word_tokenize\n",
        "\n",
        "nltk.download('punkt') # Download the punkt tokenizer data if you haven't already\n",
        "nltk.download('punkt_tab') # Download additional punkt tokenizer data\n",
        "\n",
        "text = \"This is a sentence to demonstrate n-grams.\"\n",
        "tokens = word_tokenize(text)\n",
        "\n",
        "# Generate bigrams (n=2)\n",
        "bigrams_list = list(ngrams(tokens, 2))\n",
        "print(\"Bigrams:\", bigrams_list)\n",
        "\n",
        "# Generate trigrams (n=3)\n",
        "trigrams_list = list(ngrams(tokens, 3))\n",
        "print(\"Trigrams:\", trigrams_list)\n",
        "\n",
        "# Generate unigrams (n=1)\n",
        "unigrams_list = list(ngrams(tokens, 1))\n",
        "print(\"Unigrams:\", unigrams_list)"
      ],
      "execution_count": 3,
      "outputs": [
        {
          "output_type": "stream",
          "name": "stdout",
          "text": [
            "Bigrams: [('This', 'is'), ('is', 'a'), ('a', 'sentence'), ('sentence', 'to'), ('to', 'demonstrate'), ('demonstrate', 'n-grams'), ('n-grams', '.')]\n",
            "Trigrams: [('This', 'is', 'a'), ('is', 'a', 'sentence'), ('a', 'sentence', 'to'), ('sentence', 'to', 'demonstrate'), ('to', 'demonstrate', 'n-grams'), ('demonstrate', 'n-grams', '.')]\n",
            "Unigrams: [('This',), ('is',), ('a',), ('sentence',), ('to',), ('demonstrate',), ('n-grams',), ('.',)]\n"
          ]
        },
        {
          "output_type": "stream",
          "name": "stderr",
          "text": [
            "[nltk_data] Downloading package punkt to /root/nltk_data...\n",
            "[nltk_data]   Package punkt is already up-to-date!\n",
            "[nltk_data] Downloading package punkt_tab to /root/nltk_data...\n",
            "[nltk_data]   Package punkt_tab is already up-to-date!\n"
          ]
        }
      ]
    },
    {
      "cell_type": "markdown",
      "metadata": {
        "id": "3b017aab"
      },
      "source": [
        "This code first tokenizes the input text into words and then uses the `ngrams` function from `nltk.util` to generate bigrams, trigrams, and unigrams. The output is a list of tuples, where each tuple represents an n-gram."
      ]
    }
  ]
}