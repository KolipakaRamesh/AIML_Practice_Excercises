{
  "nbformat": 4,
  "nbformat_minor": 0,
  "metadata": {
    "colab": {
      "provenance": [],
      "authorship_tag": "ABX9TyNUz8pTc/FOd8jGOgux+6T1",
      "include_colab_link": true
    },
    "kernelspec": {
      "name": "python3",
      "display_name": "Python 3"
    },
    "language_info": {
      "name": "python"
    }
  },
  "cells": [
    {
      "cell_type": "markdown",
      "metadata": {
        "id": "view-in-github",
        "colab_type": "text"
      },
      "source": [
        "<a href=\"https://colab.research.google.com/github/KolipakaRamesh/AIML_Practice_Excercises/blob/main/Transformer_Py_Step_By_Step.ipynb\" target=\"_parent\"><img src=\"https://colab.research.google.com/assets/colab-badge.svg\" alt=\"Open In Colab\"/></a>"
      ]
    },
    {
      "cell_type": "code",
      "execution_count": null,
      "metadata": {
        "id": "gCRFW8BAZVrg"
      },
      "outputs": [],
      "source": []
    },
    {
      "cell_type": "markdown",
      "metadata": {
        "id": "ee91e831"
      },
      "source": [
        "## Understanding the Transformer Code - Step by Step\n",
        "\n",
        "Let's break down the code into smaller, more manageable parts with detailed explanations.\n",
        "\n",
        "### 1. Imports\n",
        "\n",
        "This section imports the necessary libraries from PyTorch and Matplotlib.\n",
        "\n",
        "*   `torch`: The main PyTorch library for building neural networks.\n",
        "*   `torch.nn`: Contains modules and classes for building neural network layers.\n",
        "*   `torch.nn.functional`: Provides functions for neural network operations (like softmax).\n",
        "*   `math`: Used for mathematical operations, specifically for the positional encoding.\n",
        "*   `matplotlib.pyplot`: Used for plotting graphs, like the training loss.\n",
        "*   `torch.optim`: Contains optimization algorithms, like Adam, used for training."
      ]
    },
    {
      "cell_type": "code",
      "metadata": {
        "id": "c228d8a1"
      },
      "source": [
        "import torch\n",
        "import torch.nn as nn\n",
        "import torch.nn.functional as F\n",
        "import math\n",
        "import matplotlib.pyplot as plt\n",
        "import torch.optim as optim"
      ],
      "execution_count": 73,
      "outputs": []
    },
    {
      "cell_type": "markdown",
      "metadata": {
        "id": "6191f1af"
      },
      "source": [
        "### 2. Positional Encoding\n",
        "\n",
        "The `PositionalEncoding` class adds information about the position of each token in the sequence. Transformers process sequences in parallel, so they don't inherently know the order of tokens. Positional encoding provides this crucial information.\n",
        "\n",
        "The encoding is done using sine and cosine functions of different frequencies."
      ]
    },
    {
      "cell_type": "code",
      "metadata": {
        "id": "04035472"
      },
      "source": [
        "class PositionalEncoding(nn.Module):\n",
        "    def __init__(self, d_model, max_len=5000):\n",
        "        super(PositionalEncoding, self).__init__()\n",
        "\n",
        "        # Create a matrix of shape (max_len, d_model) to store the positional encodings\n",
        "        pe = torch.zeros(max_len, d_model)\n",
        "\n",
        "        # Create a tensor of positions (0, 1, 2, ...)\n",
        "        position = torch.arange(0, max_len, dtype=torch.float).unsqueeze(1)\n",
        "\n",
        "        # Calculate the division term for the sine and cosine arguments\n",
        "        # This creates frequencies that decrease exponentially\n",
        "        div_term = torch.exp(torch.arange(0, d_model, 2).float() * (-math.log(10000.0) / d_model))\n",
        "\n",
        "        # Apply sine to even indices in the positional encoding matrix\n",
        "        pe[:, 0::2] = torch.sin(position * div_term)\n",
        "\n",
        "        # Apply cosine to odd indices in the positional encoding matrix\n",
        "        pe[:, 1::2] = torch.cos(position * div_term)\n",
        "\n",
        "        # Add an extra dimension for the batch size (even though we only have one encoding matrix)\n",
        "        pe = pe.unsqueeze(0)\n",
        "\n",
        "        # Register the positional encoding matrix as a buffer.\n",
        "        # Buffers are tensors that are part of the module's state but not its parameters (they are not updated by gradients).\n",
        "        self.register_buffer('pe', pe)\n",
        "\n",
        "    def forward(self, x):\n",
        "        # Add the positional encoding to the input tensor x\n",
        "        # We slice the positional encoding to match the sequence length of the input tensor\n",
        "        x = x + self.pe[:, :x.size(1)]\n",
        "        return x"
      ],
      "execution_count": 51,
      "outputs": []
    },
    {
      "cell_type": "markdown",
      "metadata": {
        "id": "65c0bcdd"
      },
      "source": [
        "### 3. Scaled Dot-Product Attention\n",
        "\n",
        "This is the fundamental attention mechanism used in the Transformer. It calculates the attention between a query and a set of keys and values.\n",
        "\n",
        "The process involves:\n",
        "1.  Calculating the dot product of the Query and Key tensors.\n",
        "2.  Scaling the dot product by the square root of the dimension of the keys (`d_k`) to prevent large values from dominating the softmax.\n",
        "3.  Optionally applying a mask to ignore certain positions (e.g., padding tokens or future tokens in the decoder).\n",
        "4.  Applying a softmax function to get attention weights, which represent how much attention each position in the query attends to each position in the key.\n",
        "5.  Multiplying the attention weights by the Value tensor to get the output."
      ]
    },
    {
      "cell_type": "code",
      "metadata": {
        "id": "c7f1fc89"
      },
      "source": [
        "def scaled_dot_product_attention(query, key, value, mask=None):\n",
        "    \"\"\"\n",
        "    Calculates scaled dot-product attention.\n",
        "\n",
        "    Args:\n",
        "        query (torch.Tensor): Query tensor of shape (batch_size, num_heads, seq_len, d_k).\n",
        "        key (torch.Tensor): Key tensor of shape (batch_size, num_heads, seq_len, d_k).\n",
        "        value (torch.Tensor): Value tensor of shape (batch_size, num_heads, seq_len, d_v).\n",
        "        mask (torch.Tensor, optional): Mask tensor to prevent attention to certain positions.\n",
        "\n",
        "    Returns:\n",
        "        tuple: A tuple containing:\n",
        "            - torch.Tensor: Output tensor after attention.\n",
        "            - torch.Tensor: Attention weights.\n",
        "    \"\"\"\n",
        "    d_k = query.size(-1)\n",
        "    scaled_dot_product = torch.matmul(query, key.transpose(-2, -1)) / math.sqrt(d_k)\n",
        "\n",
        "    if mask is not None:\n",
        "        scaled_dot_product = scaled_dot_product.masked_fill(mask == 0, float('-inf'))\n",
        "\n",
        "    attention_weights = F.softmax(scaled_dot_product, dim=-1)\n",
        "    output = torch.matmul(attention_weights, value)\n",
        "\n",
        "    return output, attention_weights"
      ],
      "execution_count": 52,
      "outputs": []
    },
    {
      "cell_type": "markdown",
      "metadata": {
        "id": "88e8b5e1"
      },
      "source": [
        "### 4. Multi-Head Attention\n",
        "\n",
        "Multi-Head Attention allows the model to jointly attend to information from different representation subspaces at different positions. It does this by:\n",
        "\n",
        "1.  Linearly projecting the Query, Key, and Value tensors multiple times with different learned linear projections. These projections are split into a specified number of \"heads.\"\n",
        "2.  Performing scaled dot-product attention in parallel for each of these heads.\n",
        "3.  Concatenating the output of each attention head.\n",
        "4.  Applying a final linear projection to the concatenated output."
      ]
    },
    {
      "cell_type": "code",
      "metadata": {
        "id": "91288db6"
      },
      "source": [
        "class MultiHeadAttention(nn.Module):\n",
        "    def __init__(self, d_model, num_heads):\n",
        "        super(MultiHeadAttention, self).__init__()\n",
        "        assert d_model % num_heads == 0 # Ensure the model dimension is divisible by the number of heads\n",
        "        self.num_heads = num_heads\n",
        "        self.d_k = d_model // num_heads # Dimension of each attention head\n",
        "\n",
        "        # Linear layers for projecting Query, Key, Value, and the final output\n",
        "        self.W_q = nn.Linear(d_model, d_model)\n",
        "        self.W_k = nn.Linear(d_model, d_model)\n",
        "        self.W_v = nn.Linear(d_model, d_model)\n",
        "        self.W_o = nn.Linear(d_model, d_model)\n",
        "\n",
        "    def forward(self, query, key, value, mask=None):\n",
        "        batch_size = query.size(0)\n",
        "\n",
        "        # Apply linear projections and reshape for multi-head attention\n",
        "        # The view operation changes the tensor shape, and transpose rearranges the dimensions\n",
        "        q = self.W_q(query).view(batch_size, -1, self.num_heads, self.d_k).transpose(1, 2)\n",
        "        k = self.W_k(key).view(batch_size, -1, self.num_heads, self.d_k).transpose(1, 2)\n",
        "        v = self.W_v(value).view(batch_size, -1, self.num_heads, self.d_k).transpose(1, 2)\n",
        "\n",
        "        # Perform scaled dot-product attention for each head\n",
        "        attention_output, _ = scaled_dot_product_attention(q, k, v, mask=mask)\n",
        "\n",
        "        # Reshape and apply final linear projection\n",
        "        # contiguous() is needed before view() if the tensor's memory layout is not contiguous\n",
        "        attention_output = attention_output.transpose(1, 2).contiguous().view(batch_size, -1, self.num_heads * self.d_k)\n",
        "        output = self.W_o(attention_output)\n",
        "\n",
        "        return output"
      ],
      "execution_count": 53,
      "outputs": []
    },
    {
      "cell_type": "markdown",
      "metadata": {
        "id": "f2eaf697"
      },
      "source": [
        "### 5. Feedforward and Layer Normalization\n",
        "\n",
        "These components are applied after the attention mechanisms within each encoder and decoder layer.\n",
        "\n",
        "*   **Feedforward Network**: This is a simple neural network with two linear layers and an activation function. It's applied independently to each position in the sequence and helps the model process the information learned by the attention layers.\n",
        "*   **Layer Normalization**: This technique helps stabilize the training of deep networks by normalizing the activations of each layer across the features. It's typically applied before or after the attention and feedforward sub-layers."
      ]
    },
    {
      "cell_type": "code",
      "metadata": {
        "id": "cbc869b5"
      },
      "source": [
        "class FeedForward(nn.Module):\n",
        "    \"\"\"\n",
        "    A simple feedforward network with two linear layers and ReLU activation,\n",
        "    followed by Layer Normalization.\n",
        "    \"\"\"\n",
        "    def __init__(self, d_model, d_ff):\n",
        "        \"\"\"\n",
        "        Args:\n",
        "            d_model (int): The dimension of the input and output.\n",
        "            d_ff (int): The dimension of the hidden layer.\n",
        "        \"\"\"\n",
        "        super(FeedForward, self).__init__()\n",
        "        self.linear1 = nn.Linear(d_model, d_ff)\n",
        "        self.relu = nn.ReLU()\n",
        "        self.linear2 = nn.Linear(d_ff, d_model)\n",
        "\n",
        "    def forward(self, x):\n",
        "        \"\"\"\n",
        "        Args:\n",
        "            x (torch.Tensor): Input tensor.\n",
        "\n",
        "        Returns:\n",
        "            torch.Tensor: Output tensor after passing through the feedforward network.\n",
        "        \"\"\"\n",
        "        return self.linear2(self.relu(self.linear1(x)))\n",
        "\n",
        "class LayerNorm(nn.Module):\n",
        "    \"\"\"\n",
        "    Layer Normalization module.\n",
        "    \"\"\"\n",
        "    def __init__(self, features, eps=1e-6):\n",
        "        \"\"\"\n",
        "        Args:\n",
        "            features (int): The number of features to normalize.\n",
        "            eps (float): A small value added to the variance to avoid division by zero.\n",
        "        \"\"\"\n",
        "        super(LayerNorm, self).__init__()\n",
        "        self.a_2 = nn.Parameter(torch.ones(features))\n",
        "        self.b_2 = nn.Parameter(torch.zeros(features))\n",
        "        self.eps = eps\n",
        "\n",
        "    def forward(self, x):\n",
        "        \"\"\"\n",
        "        Args:\n",
        "            x (torch.Tensor): Input tensor.\n",
        "\n",
        "        Returns:\n",
        "            torch.Tensor: Output tensor after applying layer normalization.\n",
        "        \"\"\"\n",
        "        mean = x.mean(-1, keepdim=True)\n",
        "        std = x.std(-1, keepdim=True)\n",
        "        return self.a_2 * (x - mean) / (std + self.eps) + self.b_2"
      ],
      "execution_count": 54,
      "outputs": []
    },
    {
      "cell_type": "markdown",
      "metadata": {
        "id": "aeb260c6"
      },
      "source": [
        "### 6. Encoder Layer Implementation\n",
        "\n",
        "This class represents a single layer of the Transformer encoder. The encoder's role is to process the input sequence and create a representation of it.\n",
        "\n",
        "Each encoder layer consists of two main sub-layers:\n",
        "1.  **Multi-Head Self-Attention**: This allows the encoder to weigh the importance of different words in the input sequence relative to each other.\n",
        "2.  **Feedforward Network**: A simple neural network applied to each position independently.\n",
        "\n",
        "Both sub-layers are followed by a residual connection and Layer Normalization."
      ]
    },
    {
      "cell_type": "code",
      "metadata": {
        "id": "f90b78fb"
      },
      "source": [
        "class EncoderLayer(nn.Module):\n",
        "    \"\"\"\n",
        "    A single encoder layer in a Transformer model.\n",
        "    \"\"\"\n",
        "    def __init__(self, d_model, num_heads, d_ff, dropout):\n",
        "        \"\"\"\n",
        "        Args:\n",
        "            d_model (int): The dimension of the input and output.\n",
        "            num_heads (int): The number of attention heads.\n",
        "            d_ff (int): The dimension of the hidden layer in the feedforward network.\n",
        "            dropout (float): The dropout rate.\n",
        "        \"\"\"\n",
        "        super(EncoderLayer, self).__init__()\n",
        "        self.self_attn = MultiHeadAttention(d_model, num_heads)\n",
        "        self.feed_forward = FeedForward(d_model, d_ff)\n",
        "        self.norm1 = LayerNorm(d_model)\n",
        "        self.norm2 = LayerNorm(d_model)\n",
        "        self.dropout = nn.Dropout(dropout)\n",
        "\n",
        "    def forward(self, x, mask=None):\n",
        "        \"\"\"\n",
        "        Args:\n",
        "            x (torch.Tensor): Input tensor to the encoder layer.\n",
        "            mask (torch.Tensor, optional): Mask tensor for self-attention.\n",
        "\n",
        "        Returns:\n",
        "            torch.Tensor: Output tensor from the encoder layer.\n",
        "        \"\"\"\n",
        "        # LayerNorm before self-attention\n",
        "        normalized_x = self.norm1(x)\n",
        "        # Self-attention with residual connection and dropout\n",
        "        attn_output = self.self_attn(normalized_x, normalized_x, normalized_x, mask)\n",
        "        x = x + self.dropout(attn_output)\n",
        "\n",
        "        # LayerNorm before feedforward\n",
        "        normalized_x = self.norm2(x)\n",
        "        # Feedforward with residual connection and dropout\n",
        "        ff_output = self.feed_forward(normalized_x)\n",
        "        x = x + self.dropout(ff_output)\n",
        "\n",
        "        return x"
      ],
      "execution_count": 55,
      "outputs": []
    },
    {
      "cell_type": "markdown",
      "metadata": {
        "id": "193bcd27"
      },
      "source": [
        "### 7. Decoder Layer Implementation\n",
        "\n",
        "This class represents a single layer of the Transformer decoder. The decoder's role is to generate the output sequence based on the encoder's output and the previously generated tokens.\n",
        "\n",
        "Each decoder layer consists of three main sub-layers:\n",
        "1.  **Masked Multi-Head Self-Attention**: Similar to the encoder's self-attention, but masked to prevent attending to future tokens in the output sequence during training (to simulate the sequential generation process).\n",
        "2.  **Multi-Head Encoder-Decoder Attention**: This attention mechanism allows the decoder to attend to the output of the encoder, focusing on the most relevant parts of the input sequence for generating the current output token.\n",
        "3.  **Feedforward Network**: A simple neural network applied to each position independently.\n",
        "\n",
        "All sub-layers are followed by a residual connection and Layer Normalization."
      ]
    },
    {
      "cell_type": "code",
      "metadata": {
        "id": "021ae5f8"
      },
      "source": [
        "class DecoderLayer(nn.Module):\n",
        "    \"\"\"\n",
        "    A single decoder layer in a Transformer model.\n",
        "    \"\"\"\n",
        "    def __init__(self, d_model, num_heads, d_ff, dropout):\n",
        "        \"\"\"\n",
        "        Args:\n",
        "            d_model (int): The dimension of the input and output.\n",
        "            num_heads (int): The number of attention heads.\n",
        "            d_ff (int): The dimension of the hidden layer in the feedforward network.\n",
        "            dropout (float): The dropout rate.\n",
        "        \"\"\"\n",
        "        super(DecoderLayer, self).__init__()\n",
        "        self.self_attn = MultiHeadAttention(d_model, num_heads)\n",
        "        self.encoder_attn = MultiHeadAttention(d_model, num_heads)\n",
        "        self.feed_forward = FeedForward(d_model, d_ff)\n",
        "        self.norm1 = LayerNorm(d_model)\n",
        "        self.norm2 = LayerNorm(d_model)\n",
        "        self.norm3 = LayerNorm(d_model)\n",
        "        self.dropout = nn.Dropout(dropout)\n",
        "\n",
        "    def forward(self, x, encoder_output, src_mask=None, tgt_mask=None):\n",
        "        \"\"\"\n",
        "        Args:\n",
        "            x (torch.Tensor): Input tensor to the decoder layer (target sequence).\n",
        "            encoder_output (torch.Tensor): Output tensor from the encoder.\n",
        "            src_mask (torch.Tensor, optional): Mask tensor for encoder-decoder attention.\n",
        "            tgt_mask (torch.Tensor, optional): Mask tensor for masked self-attention in the decoder.\n",
        "\n",
        "        Returns:\n",
        "            torch.Tensor: Output tensor from the decoder layer.\n",
        "        \"\"\"\n",
        "        # Masked self-attention\n",
        "        normalized_x = self.norm1(x)\n",
        "        self_attn_output = self.self_attn(normalized_x, normalized_x, normalized_x, mask=tgt_mask)\n",
        "        x = x + self.dropout(self_attn_output)\n",
        "\n",
        "        # Encoder-decoder attention\n",
        "        normalized_x = self.norm2(x)\n",
        "        encoder_attn_output = self.encoder_attn(normalized_x, encoder_output, encoder_output, mask=src_mask)\n",
        "        x = x + self.dropout(encoder_attn_output)\n",
        "\n",
        "        # Feedforward\n",
        "        normalized_x = self.norm3(x)\n",
        "        ff_output = self.feed_forward(normalized_x)\n",
        "        x = x + self.dropout(ff_output)\n",
        "\n",
        "        return x"
      ],
      "execution_count": 56,
      "outputs": []
    },
    {
      "cell_type": "markdown",
      "metadata": {
        "id": "2b48d0e3"
      },
      "source": [
        "### 8. Transformer Model Implementation\n",
        "\n",
        "This class puts together the Encoder and Decoder layers to form the complete Transformer architecture. It includes:\n",
        "\n",
        "*   **Embedding Layers**: To convert input and target tokens into numerical representations (vectors).\n",
        "*   **Positional Encoding**: Added to the embeddings to incorporate sequence order information.\n",
        "*   **Encoder Stack**: Multiple Encoder layers stacked on top of each other to process the input sequence.\n",
        "*   **Decoder Stack**: Multiple Decoder layers stacked on top of each other to generate the output sequence.\n",
        "*   **Final Linear Layer**: To project the decoder's output to the size of the target vocabulary, giving probabilities for each possible next token."
      ]
    },
    {
      "cell_type": "code",
      "metadata": {
        "id": "4a6470de"
      },
      "source": [
        "class Transformer(nn.Module):\n",
        "    \"\"\"\n",
        "    A complete Transformer model architecture.\n",
        "    \"\"\"\n",
        "    def __init__(self, src_vocab_size, tgt_vocab_size, d_model, num_heads, num_encoder_layers, num_decoder_layers, d_ff, dropout):\n",
        "        \"\"\"\n",
        "        Args:\n",
        "            src_vocab_size (int): The size of the source vocabulary.\n",
        "            tgt_vocab_size (int): The size of the target vocabulary.\n",
        "            d_model (int): The dimension of the model's embeddings.\n",
        "            num_heads (int): The number of attention heads.\n",
        "            num_encoder_layers (int): The number of encoder layers.\n",
        "            num_decoder_layers (int): The number of decoder layers.\n",
        "            d_ff (int): The dimension of the hidden layer in the feedforward networks.\n",
        "            dropout (float): The dropout rate.\n",
        "        \"\"\"\n",
        "        super(Transformer, self).__init__()\n",
        "        self.d_model = d_model\n",
        "\n",
        "        # Embedding layers\n",
        "        self.src_embedding = nn.Embedding(src_vocab_size, d_model)\n",
        "        self.tgt_embedding = nn.Embedding(tgt_vocab_size, d_model)\n",
        "\n",
        "        # Positional Encoding\n",
        "        self.positional_encoding = PositionalEncoding(d_model)\n",
        "\n",
        "        # Encoder stack\n",
        "        self.encoder_layers = nn.ModuleList([EncoderLayer(d_model, num_heads, d_ff, dropout) for _ in range(num_encoder_layers)])\n",
        "\n",
        "        # Decoder stack\n",
        "        self.decoder_layers = nn.ModuleList([DecoderLayer(d_model, num_heads, d_ff, dropout) for _ in range(num_decoder_layers)])\n",
        "\n",
        "        # Final linear layer\n",
        "        self.fc_out = nn.Linear(d_model, tgt_vocab_size)\n",
        "\n",
        "        self.dropout = nn.Dropout(dropout)\n",
        "\n",
        "    def forward(self, src, tgt, src_mask=None, tgt_mask=None):\n",
        "        \"\"\"\n",
        "        Args:\n",
        "            src (torch.Tensor): Source sequence tensor.\n",
        "            tgt (torch.Tensor): Target sequence tensor.\n",
        "            src_mask (torch.Tensor, optional): Mask for the source sequence.\n",
        "            tgt_mask (torch.Tensor, optional): Mask for the target sequence.\n",
        "\n",
        "        Returns:\n",
        "            torch.Tensor: Output tensor representing the predicted target sequence.\n",
        "        \"\"\"\n",
        "        # Apply embeddings and positional encoding\n",
        "        src_embedded = self.dropout(self.positional_encoding(self.src_embedding(src)))\n",
        "        tgt_embedded = self.dropout(self.positional_encoding(self.tgt_embedding(tgt)))\n",
        "\n",
        "        # Pass through encoder stack\n",
        "        encoder_output = src_embedded\n",
        "        for encoder_layer in self.encoder_layers:\n",
        "            encoder_output = encoder_layer(encoder_output, src_mask)\n",
        "\n",
        "        # Pass through decoder stack\n",
        "        decoder_output = tgt_embedded\n",
        "        for decoder_layer in self.decoder_layers:\n",
        "            decoder_output = decoder_layer(decoder_output, encoder_output, src_mask, tgt_mask)\n",
        "\n",
        "        # Apply final linear layer\n",
        "        output = self.fc_out(decoder_output)\n",
        "\n",
        "        return output"
      ],
      "execution_count": 57,
      "outputs": []
    },
    {
      "cell_type": "markdown",
      "metadata": {
        "id": "e0e60c0e"
      },
      "source": [
        "### 9. Tokenizer and Dummy Data\n",
        "\n",
        "This section sets up a simple vocabulary and creates dummy input and target sequences to demonstrate how the model works.\n",
        "\n",
        "*   **Vocabulary**: A list of all possible words the model can understand.\n",
        "*   **Token Mapping**: Dictionaries to convert words to numbers (indices) and vice versa.\n",
        "*   **Tokenizer Function**: A simple function to split text into words and convert them to their corresponding indices.\n",
        "*   **Dummy Data**: Example source and target sequences converted into tensors that the model can process."
      ]
    },
    {
      "cell_type": "code",
      "metadata": {
        "colab": {
          "base_uri": "https://localhost:8080/"
        },
        "id": "d236bedd",
        "outputId": "f497ee65-3cc9-48b4-f5d5-26571a3c34df"
      },
      "source": [
        "# Define a simple vocabulary and token mapping\n",
        "vocab = ['<PAD>', '<SOS>', 'hello', 'world', 'transformer', 'model', 'pytorch', 'sequence', 'encoding', 'attention', 'feedforward', 'layer', 'normalization', 'encoder', 'decoder']\n",
        "\n",
        "# Create token to index and index to token mappings\n",
        "word_to_idx = {word: idx for idx, word in enumerate(vocab)}\n",
        "idx_to_word = {idx: word for idx, word in enumerate(vocab)}\n",
        "\n",
        "# Simple tokenizer function\n",
        "def tokenize(text, word_to_idx):\n",
        "    return [word_to_idx.get(word, word_to_idx['<PAD>']) for word in text.split()]\n",
        "\n",
        "# Generate dummy data\n",
        "dummy_src_text = \"hello transformer model\"\n",
        "dummy_tgt_text = \"hello pytorch sequence\"\n",
        "\n",
        "dummy_src_tokens = tokenize(dummy_src_text, word_to_idx)\n",
        "dummy_tgt_tokens = tokenize(dummy_tgt_text, word_to_idx)\n",
        "\n",
        "dummy_src_tensor = torch.LongTensor(dummy_src_tokens).unsqueeze(0) # Add batch dimension\n",
        "dummy_tgt_tensor = torch.LongTensor(dummy_tgt_tokens).unsqueeze(0) # Add batch dimension\n",
        "\n",
        "print(\"Source Text:\", dummy_src_text)\n",
        "print(\"Source Tokens:\", dummy_src_tokens)\n",
        "print(\"Source Tensor:\", dummy_src_tensor)\n",
        "print(\"\\nTarget Text:\", dummy_tgt_text)\n",
        "print(\"Target Tokens:\", dummy_tgt_tokens)\n",
        "print(\"Target Tensor:\", dummy_tgt_tensor)"
      ],
      "execution_count": 58,
      "outputs": [
        {
          "output_type": "stream",
          "name": "stdout",
          "text": [
            "Source Text: hello transformer model\n",
            "Source Tokens: [2, 4, 5]\n",
            "Source Tensor: tensor([[2, 4, 5]])\n",
            "\n",
            "Target Text: hello pytorch sequence\n",
            "Target Tokens: [2, 6, 7]\n",
            "Target Tensor: tensor([[2, 6, 7]])\n"
          ]
        }
      ]
    },
    {
      "cell_type": "markdown",
      "metadata": {
        "id": "cc354d15"
      },
      "source": [
        "### 10. Training Loop with Dummy Data and Visualization\n",
        "\n",
        "This section sets up a basic training process using the dummy data and visualizes the training loss.\n",
        "\n",
        "*   **Model Instantiation**: Creates an instance of the Transformer model with specified parameters.\n",
        "*   **Optimizer**: Defines the optimization algorithm (Adam) used to update model weights during training.\n",
        "*   **Loss Function**: Defines the criterion (Cross-Entropy Loss) used to measure the difference between the model's output and the target sequence.\n",
        "*   **Training Loop**: Iterates through a set number of epochs, performs forward and backward passes, and updates model weights to minimize the loss.\n",
        "*   **Loss Tracking and Plotting**: Records the loss value at the end of each epoch and uses Matplotlib to plot how the loss changes over time."
      ]
    },
    {
      "cell_type": "code",
      "metadata": {
        "colab": {
          "base_uri": "https://localhost:8080/",
          "height": 714
        },
        "id": "49aa002a",
        "outputId": "feb4a082-e13d-4ed2-e986-a8fadef84377"
      },
      "source": [
        "# Model parameters (example values)\n",
        "src_vocab_size = len(vocab)\n",
        "tgt_vocab_size = len(vocab)\n",
        "d_model = 512\n",
        "num_heads = 8\n",
        "num_encoder_layers = 6\n",
        "num_decoder_layers = 6\n",
        "d_ff = 2048\n",
        "dropout = 0.1\n",
        "\n",
        "# Instantiate the Transformer model\n",
        "model = Transformer(src_vocab_size, tgt_vocab_size, d_model, num_heads, num_encoder_layers, num_decoder_layers, d_ff, dropout)\n",
        "\n",
        "# Define optimizer and loss function\n",
        "optimizer = optim.Adam(model.parameters(), lr=0.001)\n",
        "criterion = nn.CrossEntropyLoss(ignore_index=word_to_idx['<PAD>']) # Ignore padding in loss calculation\n",
        "\n",
        "# Dummy training loop (minimal)\n",
        "num_epochs = 10\n",
        "train_losses = [] # List to store loss values\n",
        "\n",
        "for epoch in range(num_epochs):\n",
        "    model.train()\n",
        "    optimizer.zero_grad()\n",
        "\n",
        "    # Dummy forward pass\n",
        "    output = model(dummy_src_tensor, dummy_tgt_tensor[:, :-1])\n",
        "\n",
        "    # Reshape output and target for loss calculation\n",
        "    output = output.contiguous().view(-1, tgt_vocab_size)\n",
        "    target = dummy_tgt_tensor[:, 1:].contiguous().view(-1)\n",
        "\n",
        "    # Calculate loss\n",
        "    loss = criterion(output, target)\n",
        "    train_losses.append(loss.item()) # Store the loss\n",
        "\n",
        "    # Backpropagation and optimization\n",
        "    loss.backward()\n",
        "    optimizer.step()\n",
        "\n",
        "    print(f\"Epoch [{epoch+1}/{num_epochs}], Loss: {loss.item():.4f}\")\n",
        "\n",
        "print(\"\\nTraining loop finished.\")\n",
        "\n",
        "# Plot the training loss\n",
        "plt.figure(figsize=(10, 6))\n",
        "plt.plot(range(1, num_epochs + 1), train_losses, marker='o')\n",
        "plt.title('Training Loss over Epochs')\n",
        "plt.xlabel('Epoch')\n",
        "plt.ylabel('Loss')\n",
        "plt.grid(True)\n",
        "plt.show()"
      ],
      "execution_count": 59,
      "outputs": [
        {
          "output_type": "stream",
          "name": "stdout",
          "text": [
            "Epoch [1/10], Loss: 3.4162\n",
            "Epoch [2/10], Loss: 16.2449\n",
            "Epoch [3/10], Loss: 51.9910\n",
            "Epoch [4/10], Loss: 44.1209\n",
            "Epoch [5/10], Loss: 16.1783\n",
            "Epoch [6/10], Loss: 0.5032\n",
            "Epoch [7/10], Loss: 0.0000\n",
            "Epoch [8/10], Loss: 0.0000\n",
            "Epoch [9/10], Loss: 0.0000\n",
            "Epoch [10/10], Loss: 0.0000\n",
            "\n",
            "Training loop finished.\n"
          ]
        },
        {
          "output_type": "display_data",
          "data": {
            "text/plain": [
              "<Figure size 1000x600 with 1 Axes>"
            ],
            "image/png": "[encoded data removed]"
          },
          "metadata": {}
        }
      ]
    },
    {
      "cell_type": "markdown",
      "metadata": {
        "id": "2608c894"
      },
      "source": [
        "### Chosen Dataset: WMT English-French Translation Subset\n",
        "\n",
        "We will use a subset of the WMT English-French translation dataset. This dataset consists of pairs of sentences, one in English and its corresponding translation in French. It's a good choice because:\n",
        "\n",
        "*   It's a standard dataset used in many NLP tasks, including machine translation.\n",
        "*   It's a sequence-to-sequence problem, which the Transformer is well-suited for.\n",
        "*   Smaller subsets are available, making it manageable for this demonstration without requiring extensive computational resources."
      ]
    }
  ]
}